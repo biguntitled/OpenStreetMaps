{
 "cells": [
  {
   "cell_type": "code",
   "execution_count": null,
   "metadata": {},
   "outputs": [],
   "source": [
    "import requests\n",
    "import numpy as np\n",
    "import pandas as pd\n",
    "from geopy.distance import geodesic"
   ]
  },
  {
   "cell_type": "markdown",
   "metadata": {},
   "source": [
    "# Calculating the shortest walking distance between a list of possible destinations and one starting point. \n",
    "\n",
    "Made to scale for larger data sets with many starting points and the same list of destinations using a local instance of OpenStreetMaps."
   ]
  },
  {
   "cell_type": "markdown",
   "metadata": {},
   "source": [
    "## Read Me\n",
    "\n",
    "**To install a local instance of OSRM maps, used to calculate distances. You need to make sure to install Docker, open it and create a local host, download a local map, e.g., from https://extract.bbbike.org/ in the pbf format. Run following commands in the terminal (MacOS)**\n",
    "\n",
    "**1. Navigate to the directory containing your OSM data if you're not already there:**\n",
    "\n",
    "cd /path/to/your/osm/data\n",
    "\n",
    "**2. Extract the OSM data for routing (replace 'denmark-latest.osm.pbf' with your file if different):**\n",
    "\n",
    "docker run -t -v ${PWD}:/data osrm/osrm-backend osrm-extract -p /opt/foot.lua /data/denmark-latest.osm.pbf\n",
    "\n",
    "**2. Prepare the data for faster routing:**\n",
    "\n",
    "docker run -t -v ${PWD}:/data osrm/osrm-backend osrm-partition /data/denmark-latest.osrm\n",
    "\n",
    "docker run -t -v ${PWD}:/data osrm/osrm-backend osrm-customize /data/denmark-latest.osrm\n",
    "\n",
    "**3. Start the OSRM server:**\n",
    "\n",
    "docker run -t -i -p 5001:5000 -v ${PWD}:/data osrm/osrm-backend osrm-routed --algorithm mld /data/denmark-latest.osrm\n"
   ]
  },
  {
   "cell_type": "markdown",
   "metadata": {},
   "source": [
    "## Metro Station Example\n",
    "Say you have a data frame with x,y- coordinates of the metro stations (metro_df) and another data frame with many houses (df). You want to calculate the closest metro station by walking distance. Start by defining the following functions."
   ]
  },
  {
   "cell_type": "code",
   "execution_count": null,
   "metadata": {},
   "outputs": [],
   "source": [
    "def get_walking_distance_osrm(start_lat, start_lon, end_lat, end_lon):\n",
    "    profile = 'foot'\n",
    "    url = f\"http://localhost:5001/route/v1/{profile}/{start_lon},{start_lat};{end_lon},{end_lat}?overview=false\"\n",
    "    \n",
    "    response = requests.get(url)\n",
    "    \n",
    "    if response.status_code == 200:\n",
    "        data = response.json()\n",
    "        distance = data['routes'][0]['distance']\n",
    "        return distance\n",
    "    else:\n",
    "        print(\"Failed to get distance\")\n",
    "        return np.inf  # Return infinity to indicate failure\n",
    "\n",
    "def find_closest_station_walk_osrm(row, metro_df):\n",
    "    closest_distance = np.inf\n",
    "    closest_station_name = None\n",
    "    \n",
    "    start_point = (row['wgs84_lat'], row['wgs84_lon'])\n",
    "\n",
    "    for i, station_row in metro_df.iterrows():\n",
    "        station_point = (station_row['wgs84_lat'], station_row['wgs84_lon'])\n",
    "        distance = get_walking_distance_osrm(start_point[0], start_point[1], station_point[0], station_point[1])\n",
    "        \n",
    "        if distance < closest_distance:\n",
    "            closest_distance = distance\n",
    "            closest_station_name = station_row['Metro Station Name']\n",
    "    \n",
    "    row['closest_station_walk'] = closest_station_name\n",
    "    row['distance_to_closest_station_walk'] = closest_distance\n",
    "    \n",
    "    return row"
   ]
  },
  {
   "cell_type": "markdown",
   "metadata": {},
   "source": [
    "You can apply the latter function with _(df.find_closest_station_walk_osrm(metro_df)_ and simply wait. If you can exclude some metro stations by zip code or another variable, insert a condition before looping through all stations, this can considerably decrease run-time. "
   ]
  }
 ],
 "metadata": {
  "language_info": {
   "name": "python"
  }
 },
 "nbformat": 4,
 "nbformat_minor": 2
}
